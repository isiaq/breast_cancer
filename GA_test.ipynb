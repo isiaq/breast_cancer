{
 "cells": [
  {
   "cell_type": "markdown",
   "metadata": {},
   "source": [
    "# Part 1"
   ]
  },
  {
   "cell_type": "markdown",
   "metadata": {},
   "source": [
    "Python Coding and Data Set\n",
    "\n",
    "    Load in the data file and header file provided\n",
    "    The dataframe does not currently have a header, load in the header file and attach it to the dataframe\n",
    "    Comment on any steps you might take to evaluate or transform the dataset.\n",
    "    Compute the mean and median smoothness and compactness for benign and malignant tumors - do they differ?\n",
    "    Explain how you would identify this.\n",
    "    Write a function to generate bootstrap samples of the data.\n",
    "\n",
    "Exploratory Analysis\n",
    "\n",
    "    Identify 2-3 variables that are predictive of a malignant tumor.\n",
    "    Display the relationship visually and write 1-2 sentences explaining the relationship.\n",
    "\n",
    "Modeling\n",
    "\n",
    "    Build a model to predict the malignant tumors.\n",
    "    Use at least two classification techniques; compare and contrast the advantages and disadvantages of each.\n",
    "    Identify how you would control for overfitting in each classification technique.\n",
    "    Evaluate the performance of each model.\n",
    "    In each model, identify the most important predictive variables and explain how you identified them.\n",
    "\n",
    "Explanation\n",
    "\n",
    "    To Technical Audiences\n",
    "    Explain the limitations of your analysis and identify possible further steps you could take.\n",
    "    To Non-Technical Audiences\n",
    "    Write a short summary of your analysis, explaining how your model works and how it performs.\n",
    "    Briefly explain the factors that contributed to malignant vs benign tumor identification."
   ]
  },
  {
   "cell_type": "code",
   "execution_count": 1,
   "metadata": {
    "collapsed": true
   },
   "outputs": [],
   "source": [
    "# Load the used libraries\n",
    "import matplotlib.pyplot as plt\n",
    "import numpy as np\n",
    "import pandas as pd\n",
    "from pathlib import Path\n",
    "from sklearn.linear_model import LogisticRegression\n",
    "from sklearn.metrics import roc_curve, roc_auc_score\n",
    "from sklearn import cross_validation, datasets, grid_search, neighbors, metrics\n",
    "%matplotlib inline\n",
    "import statsmodels.api as sm\n",
    "import operator"
   ]
  },
  {
   "cell_type": "code",
   "execution_count": 2,
   "metadata": {
    "collapsed": false
   },
   "outputs": [],
   "source": [
    "# Read in the files and add the header to the data frame\n",
    "col_names = open('field_names.txt')\n",
    "df = pd.read_csv('breast-cancer.csv',header=None)\n",
    "df.columns = [name[:-1] for name in col_names]"
   ]
  },
  {
   "cell_type": "code",
   "execution_count": 3,
   "metadata": {
    "collapsed": false
   },
   "outputs": [
    {
     "data": {
      "text/html": [
       "<div>\n",
       "<table border=\"1\" class=\"dataframe\">\n",
       "  <thead>\n",
       "    <tr style=\"text-align: right;\">\n",
       "      <th></th>\n",
       "      <th>ID</th>\n",
       "      <th>diagnosis</th>\n",
       "      <th>radius_mean</th>\n",
       "      <th>radius_sd_error</th>\n",
       "      <th>radius_worst</th>\n",
       "      <th>texture_mean</th>\n",
       "      <th>texture_sd_error</th>\n",
       "      <th>texture_worst</th>\n",
       "      <th>perimeter_mean</th>\n",
       "      <th>perimeter_sd_error</th>\n",
       "      <th>...</th>\n",
       "      <th>concavity_worst</th>\n",
       "      <th>concave_points_mean</th>\n",
       "      <th>concave_points_sd_error</th>\n",
       "      <th>concave_points_worst</th>\n",
       "      <th>symmetry_mean</th>\n",
       "      <th>symmetry_sd_error</th>\n",
       "      <th>symmetry_worst</th>\n",
       "      <th>fractal_dimension_mean</th>\n",
       "      <th>fractal_dimension_sd_error</th>\n",
       "      <th>fractal_dimension_wors</th>\n",
       "    </tr>\n",
       "  </thead>\n",
       "  <tbody>\n",
       "    <tr>\n",
       "      <th>0</th>\n",
       "      <td>842302</td>\n",
       "      <td>M</td>\n",
       "      <td>17.99</td>\n",
       "      <td>10.38</td>\n",
       "      <td>122.80</td>\n",
       "      <td>1001.0</td>\n",
       "      <td>0.11840</td>\n",
       "      <td>0.27760</td>\n",
       "      <td>0.3001</td>\n",
       "      <td>0.14710</td>\n",
       "      <td>...</td>\n",
       "      <td>25.38</td>\n",
       "      <td>17.33</td>\n",
       "      <td>184.60</td>\n",
       "      <td>2019.0</td>\n",
       "      <td>0.1622</td>\n",
       "      <td>0.6656</td>\n",
       "      <td>0.7119</td>\n",
       "      <td>0.2654</td>\n",
       "      <td>0.4601</td>\n",
       "      <td>0.11890</td>\n",
       "    </tr>\n",
       "    <tr>\n",
       "      <th>1</th>\n",
       "      <td>842517</td>\n",
       "      <td>M</td>\n",
       "      <td>20.57</td>\n",
       "      <td>17.77</td>\n",
       "      <td>132.90</td>\n",
       "      <td>1326.0</td>\n",
       "      <td>0.08474</td>\n",
       "      <td>0.07864</td>\n",
       "      <td>0.0869</td>\n",
       "      <td>0.07017</td>\n",
       "      <td>...</td>\n",
       "      <td>24.99</td>\n",
       "      <td>23.41</td>\n",
       "      <td>158.80</td>\n",
       "      <td>1956.0</td>\n",
       "      <td>0.1238</td>\n",
       "      <td>0.1866</td>\n",
       "      <td>0.2416</td>\n",
       "      <td>0.1860</td>\n",
       "      <td>0.2750</td>\n",
       "      <td>0.08902</td>\n",
       "    </tr>\n",
       "    <tr>\n",
       "      <th>2</th>\n",
       "      <td>84300903</td>\n",
       "      <td>M</td>\n",
       "      <td>19.69</td>\n",
       "      <td>21.25</td>\n",
       "      <td>130.00</td>\n",
       "      <td>1203.0</td>\n",
       "      <td>0.10960</td>\n",
       "      <td>0.15990</td>\n",
       "      <td>0.1974</td>\n",
       "      <td>0.12790</td>\n",
       "      <td>...</td>\n",
       "      <td>23.57</td>\n",
       "      <td>25.53</td>\n",
       "      <td>152.50</td>\n",
       "      <td>1709.0</td>\n",
       "      <td>0.1444</td>\n",
       "      <td>0.4245</td>\n",
       "      <td>0.4504</td>\n",
       "      <td>0.2430</td>\n",
       "      <td>0.3613</td>\n",
       "      <td>0.08758</td>\n",
       "    </tr>\n",
       "    <tr>\n",
       "      <th>3</th>\n",
       "      <td>84348301</td>\n",
       "      <td>M</td>\n",
       "      <td>11.42</td>\n",
       "      <td>20.38</td>\n",
       "      <td>77.58</td>\n",
       "      <td>386.1</td>\n",
       "      <td>0.14250</td>\n",
       "      <td>0.28390</td>\n",
       "      <td>0.2414</td>\n",
       "      <td>0.10520</td>\n",
       "      <td>...</td>\n",
       "      <td>14.91</td>\n",
       "      <td>26.50</td>\n",
       "      <td>98.87</td>\n",
       "      <td>567.7</td>\n",
       "      <td>0.2098</td>\n",
       "      <td>0.8663</td>\n",
       "      <td>0.6869</td>\n",
       "      <td>0.2575</td>\n",
       "      <td>0.6638</td>\n",
       "      <td>0.17300</td>\n",
       "    </tr>\n",
       "    <tr>\n",
       "      <th>4</th>\n",
       "      <td>84358402</td>\n",
       "      <td>M</td>\n",
       "      <td>20.29</td>\n",
       "      <td>14.34</td>\n",
       "      <td>135.10</td>\n",
       "      <td>1297.0</td>\n",
       "      <td>0.10030</td>\n",
       "      <td>0.13280</td>\n",
       "      <td>0.1980</td>\n",
       "      <td>0.10430</td>\n",
       "      <td>...</td>\n",
       "      <td>22.54</td>\n",
       "      <td>16.67</td>\n",
       "      <td>152.20</td>\n",
       "      <td>1575.0</td>\n",
       "      <td>0.1374</td>\n",
       "      <td>0.2050</td>\n",
       "      <td>0.4000</td>\n",
       "      <td>0.1625</td>\n",
       "      <td>0.2364</td>\n",
       "      <td>0.07678</td>\n",
       "    </tr>\n",
       "  </tbody>\n",
       "</table>\n",
       "<p>5 rows × 32 columns</p>\n",
       "</div>"
      ],
      "text/plain": [
       "         ID diagnosis  radius_mean  radius_sd_error  radius_worst  \\\n",
       "0    842302         M        17.99            10.38        122.80   \n",
       "1    842517         M        20.57            17.77        132.90   \n",
       "2  84300903         M        19.69            21.25        130.00   \n",
       "3  84348301         M        11.42            20.38         77.58   \n",
       "4  84358402         M        20.29            14.34        135.10   \n",
       "\n",
       "   texture_mean  texture_sd_error  texture_worst  perimeter_mean  \\\n",
       "0        1001.0           0.11840        0.27760          0.3001   \n",
       "1        1326.0           0.08474        0.07864          0.0869   \n",
       "2        1203.0           0.10960        0.15990          0.1974   \n",
       "3         386.1           0.14250        0.28390          0.2414   \n",
       "4        1297.0           0.10030        0.13280          0.1980   \n",
       "\n",
       "   perimeter_sd_error           ...            concavity_worst  \\\n",
       "0             0.14710           ...                      25.38   \n",
       "1             0.07017           ...                      24.99   \n",
       "2             0.12790           ...                      23.57   \n",
       "3             0.10520           ...                      14.91   \n",
       "4             0.10430           ...                      22.54   \n",
       "\n",
       "   concave_points_mean  concave_points_sd_error  concave_points_worst  \\\n",
       "0                17.33                   184.60                2019.0   \n",
       "1                23.41                   158.80                1956.0   \n",
       "2                25.53                   152.50                1709.0   \n",
       "3                26.50                    98.87                 567.7   \n",
       "4                16.67                   152.20                1575.0   \n",
       "\n",
       "   symmetry_mean  symmetry_sd_error  symmetry_worst  fractal_dimension_mean  \\\n",
       "0         0.1622             0.6656          0.7119                  0.2654   \n",
       "1         0.1238             0.1866          0.2416                  0.1860   \n",
       "2         0.1444             0.4245          0.4504                  0.2430   \n",
       "3         0.2098             0.8663          0.6869                  0.2575   \n",
       "4         0.1374             0.2050          0.4000                  0.1625   \n",
       "\n",
       "   fractal_dimension_sd_error  fractal_dimension_wors  \n",
       "0                      0.4601                 0.11890  \n",
       "1                      0.2750                 0.08902  \n",
       "2                      0.3613                 0.08758  \n",
       "3                      0.6638                 0.17300  \n",
       "4                      0.2364                 0.07678  \n",
       "\n",
       "[5 rows x 32 columns]"
      ]
     },
     "execution_count": 3,
     "metadata": {},
     "output_type": "execute_result"
    }
   ],
   "source": [
    "df.head()"
   ]
  },
  {
   "cell_type": "code",
   "execution_count": 4,
   "metadata": {
    "collapsed": false
   },
   "outputs": [
    {
     "name": "stdout",
     "output_type": "stream",
     "text": [
      "['M' 'B']\n",
      "212\n",
      "357\n"
     ]
    }
   ],
   "source": [
    "# Determine how many patients had malign breast cancer cells\n",
    "print df['diagnosis'].unique()\n",
    "print len(df[df['diagnosis'] == 'M'])\n",
    "print len(df[df['diagnosis'] != 'M'])"
   ]
  },
  {
   "cell_type": "code",
   "execution_count": 5,
   "metadata": {
    "collapsed": false
   },
   "outputs": [],
   "source": [
    "# Code malignity by numeric value in a new variable diag_dummy\n",
    "df['diag_dummy'] = (df['diagnosis'] != 'M' )*1"
   ]
  },
  {
   "cell_type": "code",
   "execution_count": 6,
   "metadata": {
    "collapsed": false
   },
   "outputs": [
    {
     "data": {
      "text/html": [
       "<div>\n",
       "<table border=\"1\" class=\"dataframe\">\n",
       "  <thead>\n",
       "    <tr style=\"text-align: right;\">\n",
       "      <th></th>\n",
       "      <th>ID</th>\n",
       "      <th>radius_mean</th>\n",
       "      <th>radius_sd_error</th>\n",
       "      <th>radius_worst</th>\n",
       "      <th>texture_mean</th>\n",
       "      <th>texture_sd_error</th>\n",
       "      <th>texture_worst</th>\n",
       "      <th>perimeter_mean</th>\n",
       "      <th>perimeter_sd_error</th>\n",
       "      <th>perimeter_worst</th>\n",
       "      <th>...</th>\n",
       "      <th>concave_points_mean</th>\n",
       "      <th>concave_points_sd_error</th>\n",
       "      <th>concave_points_worst</th>\n",
       "      <th>symmetry_mean</th>\n",
       "      <th>symmetry_sd_error</th>\n",
       "      <th>symmetry_worst</th>\n",
       "      <th>fractal_dimension_mean</th>\n",
       "      <th>fractal_dimension_sd_error</th>\n",
       "      <th>fractal_dimension_wors</th>\n",
       "      <th>diag_dummy</th>\n",
       "    </tr>\n",
       "  </thead>\n",
       "  <tbody>\n",
       "    <tr>\n",
       "      <th>count</th>\n",
       "      <td>5.690000e+02</td>\n",
       "      <td>569.000000</td>\n",
       "      <td>569.000000</td>\n",
       "      <td>569.000000</td>\n",
       "      <td>569.000000</td>\n",
       "      <td>569.000000</td>\n",
       "      <td>569.000000</td>\n",
       "      <td>569.000000</td>\n",
       "      <td>569.000000</td>\n",
       "      <td>569.000000</td>\n",
       "      <td>...</td>\n",
       "      <td>569.000000</td>\n",
       "      <td>569.000000</td>\n",
       "      <td>569.000000</td>\n",
       "      <td>569.000000</td>\n",
       "      <td>569.000000</td>\n",
       "      <td>569.000000</td>\n",
       "      <td>569.000000</td>\n",
       "      <td>569.000000</td>\n",
       "      <td>569.000000</td>\n",
       "      <td>569.000000</td>\n",
       "    </tr>\n",
       "    <tr>\n",
       "      <th>mean</th>\n",
       "      <td>3.037183e+07</td>\n",
       "      <td>14.127292</td>\n",
       "      <td>19.289649</td>\n",
       "      <td>91.969033</td>\n",
       "      <td>654.889104</td>\n",
       "      <td>0.096360</td>\n",
       "      <td>0.104341</td>\n",
       "      <td>0.088799</td>\n",
       "      <td>0.048919</td>\n",
       "      <td>0.181162</td>\n",
       "      <td>...</td>\n",
       "      <td>25.677223</td>\n",
       "      <td>107.261213</td>\n",
       "      <td>880.583128</td>\n",
       "      <td>0.132369</td>\n",
       "      <td>0.254265</td>\n",
       "      <td>0.272188</td>\n",
       "      <td>0.114606</td>\n",
       "      <td>0.290076</td>\n",
       "      <td>0.083946</td>\n",
       "      <td>0.627417</td>\n",
       "    </tr>\n",
       "    <tr>\n",
       "      <th>std</th>\n",
       "      <td>1.250206e+08</td>\n",
       "      <td>3.524049</td>\n",
       "      <td>4.301036</td>\n",
       "      <td>24.298981</td>\n",
       "      <td>351.914129</td>\n",
       "      <td>0.014064</td>\n",
       "      <td>0.052813</td>\n",
       "      <td>0.079720</td>\n",
       "      <td>0.038803</td>\n",
       "      <td>0.027414</td>\n",
       "      <td>...</td>\n",
       "      <td>6.146258</td>\n",
       "      <td>33.602542</td>\n",
       "      <td>569.356993</td>\n",
       "      <td>0.022832</td>\n",
       "      <td>0.157336</td>\n",
       "      <td>0.208624</td>\n",
       "      <td>0.065732</td>\n",
       "      <td>0.061867</td>\n",
       "      <td>0.018061</td>\n",
       "      <td>0.483918</td>\n",
       "    </tr>\n",
       "    <tr>\n",
       "      <th>min</th>\n",
       "      <td>8.670000e+03</td>\n",
       "      <td>6.981000</td>\n",
       "      <td>9.710000</td>\n",
       "      <td>43.790000</td>\n",
       "      <td>143.500000</td>\n",
       "      <td>0.052630</td>\n",
       "      <td>0.019380</td>\n",
       "      <td>0.000000</td>\n",
       "      <td>0.000000</td>\n",
       "      <td>0.106000</td>\n",
       "      <td>...</td>\n",
       "      <td>12.020000</td>\n",
       "      <td>50.410000</td>\n",
       "      <td>185.200000</td>\n",
       "      <td>0.071170</td>\n",
       "      <td>0.027290</td>\n",
       "      <td>0.000000</td>\n",
       "      <td>0.000000</td>\n",
       "      <td>0.156500</td>\n",
       "      <td>0.055040</td>\n",
       "      <td>0.000000</td>\n",
       "    </tr>\n",
       "    <tr>\n",
       "      <th>25%</th>\n",
       "      <td>8.692180e+05</td>\n",
       "      <td>11.700000</td>\n",
       "      <td>16.170000</td>\n",
       "      <td>75.170000</td>\n",
       "      <td>420.300000</td>\n",
       "      <td>0.086370</td>\n",
       "      <td>0.064920</td>\n",
       "      <td>0.029560</td>\n",
       "      <td>0.020310</td>\n",
       "      <td>0.161900</td>\n",
       "      <td>...</td>\n",
       "      <td>21.080000</td>\n",
       "      <td>84.110000</td>\n",
       "      <td>515.300000</td>\n",
       "      <td>0.116600</td>\n",
       "      <td>0.147200</td>\n",
       "      <td>0.114500</td>\n",
       "      <td>0.064930</td>\n",
       "      <td>0.250400</td>\n",
       "      <td>0.071460</td>\n",
       "      <td>0.000000</td>\n",
       "    </tr>\n",
       "    <tr>\n",
       "      <th>50%</th>\n",
       "      <td>9.060240e+05</td>\n",
       "      <td>13.370000</td>\n",
       "      <td>18.840000</td>\n",
       "      <td>86.240000</td>\n",
       "      <td>551.100000</td>\n",
       "      <td>0.095870</td>\n",
       "      <td>0.092630</td>\n",
       "      <td>0.061540</td>\n",
       "      <td>0.033500</td>\n",
       "      <td>0.179200</td>\n",
       "      <td>...</td>\n",
       "      <td>25.410000</td>\n",
       "      <td>97.660000</td>\n",
       "      <td>686.500000</td>\n",
       "      <td>0.131300</td>\n",
       "      <td>0.211900</td>\n",
       "      <td>0.226700</td>\n",
       "      <td>0.099930</td>\n",
       "      <td>0.282200</td>\n",
       "      <td>0.080040</td>\n",
       "      <td>1.000000</td>\n",
       "    </tr>\n",
       "    <tr>\n",
       "      <th>75%</th>\n",
       "      <td>8.813129e+06</td>\n",
       "      <td>15.780000</td>\n",
       "      <td>21.800000</td>\n",
       "      <td>104.100000</td>\n",
       "      <td>782.700000</td>\n",
       "      <td>0.105300</td>\n",
       "      <td>0.130400</td>\n",
       "      <td>0.130700</td>\n",
       "      <td>0.074000</td>\n",
       "      <td>0.195700</td>\n",
       "      <td>...</td>\n",
       "      <td>29.720000</td>\n",
       "      <td>125.400000</td>\n",
       "      <td>1084.000000</td>\n",
       "      <td>0.146000</td>\n",
       "      <td>0.339100</td>\n",
       "      <td>0.382900</td>\n",
       "      <td>0.161400</td>\n",
       "      <td>0.317900</td>\n",
       "      <td>0.092080</td>\n",
       "      <td>1.000000</td>\n",
       "    </tr>\n",
       "    <tr>\n",
       "      <th>max</th>\n",
       "      <td>9.113205e+08</td>\n",
       "      <td>28.110000</td>\n",
       "      <td>39.280000</td>\n",
       "      <td>188.500000</td>\n",
       "      <td>2501.000000</td>\n",
       "      <td>0.163400</td>\n",
       "      <td>0.345400</td>\n",
       "      <td>0.426800</td>\n",
       "      <td>0.201200</td>\n",
       "      <td>0.304000</td>\n",
       "      <td>...</td>\n",
       "      <td>49.540000</td>\n",
       "      <td>251.200000</td>\n",
       "      <td>4254.000000</td>\n",
       "      <td>0.222600</td>\n",
       "      <td>1.058000</td>\n",
       "      <td>1.252000</td>\n",
       "      <td>0.291000</td>\n",
       "      <td>0.663800</td>\n",
       "      <td>0.207500</td>\n",
       "      <td>1.000000</td>\n",
       "    </tr>\n",
       "  </tbody>\n",
       "</table>\n",
       "<p>8 rows × 32 columns</p>\n",
       "</div>"
      ],
      "text/plain": [
       "                 ID  radius_mean  radius_sd_error  radius_worst  texture_mean  \\\n",
       "count  5.690000e+02   569.000000       569.000000    569.000000    569.000000   \n",
       "mean   3.037183e+07    14.127292        19.289649     91.969033    654.889104   \n",
       "std    1.250206e+08     3.524049         4.301036     24.298981    351.914129   \n",
       "min    8.670000e+03     6.981000         9.710000     43.790000    143.500000   \n",
       "25%    8.692180e+05    11.700000        16.170000     75.170000    420.300000   \n",
       "50%    9.060240e+05    13.370000        18.840000     86.240000    551.100000   \n",
       "75%    8.813129e+06    15.780000        21.800000    104.100000    782.700000   \n",
       "max    9.113205e+08    28.110000        39.280000    188.500000   2501.000000   \n",
       "\n",
       "       texture_sd_error  texture_worst  perimeter_mean  perimeter_sd_error  \\\n",
       "count        569.000000     569.000000      569.000000          569.000000   \n",
       "mean           0.096360       0.104341        0.088799            0.048919   \n",
       "std            0.014064       0.052813        0.079720            0.038803   \n",
       "min            0.052630       0.019380        0.000000            0.000000   \n",
       "25%            0.086370       0.064920        0.029560            0.020310   \n",
       "50%            0.095870       0.092630        0.061540            0.033500   \n",
       "75%            0.105300       0.130400        0.130700            0.074000   \n",
       "max            0.163400       0.345400        0.426800            0.201200   \n",
       "\n",
       "       perimeter_worst     ...      concave_points_mean  \\\n",
       "count       569.000000     ...               569.000000   \n",
       "mean          0.181162     ...                25.677223   \n",
       "std           0.027414     ...                 6.146258   \n",
       "min           0.106000     ...                12.020000   \n",
       "25%           0.161900     ...                21.080000   \n",
       "50%           0.179200     ...                25.410000   \n",
       "75%           0.195700     ...                29.720000   \n",
       "max           0.304000     ...                49.540000   \n",
       "\n",
       "       concave_points_sd_error  concave_points_worst  symmetry_mean  \\\n",
       "count               569.000000            569.000000     569.000000   \n",
       "mean                107.261213            880.583128       0.132369   \n",
       "std                  33.602542            569.356993       0.022832   \n",
       "min                  50.410000            185.200000       0.071170   \n",
       "25%                  84.110000            515.300000       0.116600   \n",
       "50%                  97.660000            686.500000       0.131300   \n",
       "75%                 125.400000           1084.000000       0.146000   \n",
       "max                 251.200000           4254.000000       0.222600   \n",
       "\n",
       "       symmetry_sd_error  symmetry_worst  fractal_dimension_mean  \\\n",
       "count         569.000000      569.000000              569.000000   \n",
       "mean            0.254265        0.272188                0.114606   \n",
       "std             0.157336        0.208624                0.065732   \n",
       "min             0.027290        0.000000                0.000000   \n",
       "25%             0.147200        0.114500                0.064930   \n",
       "50%             0.211900        0.226700                0.099930   \n",
       "75%             0.339100        0.382900                0.161400   \n",
       "max             1.058000        1.252000                0.291000   \n",
       "\n",
       "       fractal_dimension_sd_error  fractal_dimension_wors  diag_dummy  \n",
       "count                  569.000000              569.000000  569.000000  \n",
       "mean                     0.290076                0.083946    0.627417  \n",
       "std                      0.061867                0.018061    0.483918  \n",
       "min                      0.156500                0.055040    0.000000  \n",
       "25%                      0.250400                0.071460    0.000000  \n",
       "50%                      0.282200                0.080040    1.000000  \n",
       "75%                      0.317900                0.092080    1.000000  \n",
       "max                      0.663800                0.207500    1.000000  \n",
       "\n",
       "[8 rows x 32 columns]"
      ]
     },
     "execution_count": 6,
     "metadata": {},
     "output_type": "execute_result"
    }
   ],
   "source": [
    "# Create a summary of the dataset\n",
    "df.describe()"
   ]
  },
  {
   "cell_type": "markdown",
   "metadata": {},
   "source": [
    "# Mean and median smoothness and compactness for benign and malignant tumors\n",
    "\n",
    "Now we calculate the mean, median and standard deviation for the mean smoothness and the mean compactness."
   ]
  },
  {
   "cell_type": "code",
   "execution_count": 7,
   "metadata": {
    "collapsed": false
   },
   "outputs": [
    {
     "name": "stdout",
     "output_type": "stream",
     "text": [
      "Malign\n",
      "Mean: 4.32392924528 Median: 3.6795 Standard deviation: 2.56854565405\n",
      "Benign\n",
      "Mean: 2.00032128852 Median: 1.851 Standard Deviation 0.77116920271\n"
     ]
    }
   ],
   "source": [
    "print 'Malign'\n",
    "print 'Mean:', df.smoothness_mean[df.diagnosis == 'M'].mean(), 'Median:', df.smoothness_mean[df.diagnosis == 'M'].median(), 'Standard deviation:',df.smoothness_mean[df.diagnosis == 'M'].std()\n",
    "print 'Benign'\n",
    "print 'Mean:', df.smoothness_mean[df.diagnosis != 'M'].mean(), 'Median:', df.smoothness_mean[df.diagnosis != 'M'].median(), 'Standard Deviation', df.smoothness_mean[df.diagnosis != 'M'].std()"
   ]
  },
  {
   "cell_type": "code",
   "execution_count": 8,
   "metadata": {
    "collapsed": false
   },
   "outputs": [
    {
     "name": "stdout",
     "output_type": "stream",
     "text": [
      "Malign\n",
      "Mean: 0.0322811650943 Median: 0.02859 Standard Deviation: 0.018387189921\n",
      "Benign\n",
      "Mean 0.0214382464986 Median: 0.01631 Standard Deviation: 0.0163515113604\n"
     ]
    }
   ],
   "source": [
    "print 'Malign'\n",
    "print 'Mean:', df.compactness_mean[df.diagnosis == 'M'].mean(), 'Median:', df.compactness_mean[df.diagnosis == 'M'].median(), 'Standard Deviation:', df.compactness_mean[df.diagnosis == 'M'].std()\n",
    "print 'Benign'\n",
    "print 'Mean', df.compactness_mean[df.diagnosis != 'M'].mean(), 'Median:', df.compactness_mean[df.diagnosis != 'M'].median(),  'Standard Deviation:', df.compactness_mean[df.diagnosis != 'M'].std()"
   ]
  },
  {
   "cell_type": "markdown",
   "metadata": {},
   "source": [
    "The mean and median values for the smoothness mean seem to indicate a separation between malign and benign cells. The large standard deviation for malign cells and the low standard deviation for benign cells could indicate that discrimination on this feature could result in low false negative rates but higher false positive rates.\n",
    "\n",
    "For the compactness mean, mean and median are closer and the standard deviations are of a similar level, so this feature might be a less good indicator."
   ]
  },
  {
   "cell_type": "markdown",
   "metadata": {},
   "source": [
    "# Create a function for bootstrapping the dataset"
   ]
  },
  {
   "cell_type": "code",
   "execution_count": 9,
   "metadata": {
    "collapsed": false
   },
   "outputs": [],
   "source": [
    "def df_bootstrap(df):\n",
    "    randlist = pd.DataFrame(index=np.random.randint(len(df), size=len(df)))\n",
    "    df_sample =  df.merge(randlist, left_index=True, right_index=True, how='right')\n",
    "    return df_sample "
   ]
  },
  {
   "cell_type": "code",
   "execution_count": 10,
   "metadata": {
    "collapsed": false
   },
   "outputs": [
    {
     "data": {
      "text/plain": [
       "((569, 33), (355,))"
      ]
     },
     "execution_count": 10,
     "metadata": {},
     "output_type": "execute_result"
    }
   ],
   "source": [
    "# Create a bootstrap sample\n",
    "df_sample = df_bootstrap(df)\n",
    "df_sample.shape, df_sample.ID.unique().shape"
   ]
  },
  {
   "cell_type": "markdown",
   "metadata": {},
   "source": [
    "As expected, the bootstrapped sample contains about 2/3 different items from the original dataset."
   ]
  },
  {
   "cell_type": "markdown",
   "metadata": {},
   "source": [
    "# Exploratory data anlysis\n",
    "\n",
    "We display the variables concave_points_worst, concave_points_sd_error and perimeter_sd_error as predictors for malignity. Though there are no clear boundaries, there are values at the upper and lower ends which allow a clear discrimination between malign and benign cancer."
   ]
  },
  {
   "cell_type": "code",
   "execution_count": 11,
   "metadata": {
    "collapsed": false
   },
   "outputs": [
    {
     "data": {
      "image/png": "[encoded data removed]",
      "text/plain": [
       "<matplotlib.figure.Figure at 0x104170ed0>"
      ]
     },
     "metadata": {},
     "output_type": "display_data"
    }
   ],
   "source": [
    "names = ['concave_points_worst','concave_points_sd_error','perimeter_sd_error','diag_dummy']\n",
    "#names = ['perimeter_sd_error','smoothness_worst','area_mean','diag_dummy']\n",
    "x0 = df[[names[0]]]\n",
    "x1 = df[[names[1]]]\n",
    "x2 = df[[names[2]]]\n",
    "y0 = df[[names[3]]]\n",
    "\n",
    "fig = plt.figure(figsize=(20,10))\n",
    "\n",
    "ax1 = fig.add_subplot(131)\n",
    "ax1 = plt.scatter(x0,y0, s=10, c='b', marker=\"s\")\n",
    "plt.xlabel(names[0])\n",
    "plt.ylabel(names[3])\n",
    "\n",
    "ax2 = fig.add_subplot(132)\n",
    "ax2 = plt.scatter(x1,y0+0.1, s=10, c='r', marker=\"o\")\n",
    "plt.xlabel(names[1])\n",
    "plt.ylabel(names[3])\n",
    "\n",
    "ax3 = fig.add_subplot(133)\n",
    "ax3 = plt.scatter(x2,y0+0.2, s=10, c='g', marker=\"o\")\n",
    "plt.xlabel(names[2])\n",
    "plt.ylabel(names[3])\n",
    "\n",
    "plt.show()"
   ]
  },
  {
   "cell_type": "markdown",
   "metadata": {},
   "source": [
    "# Modelling\n",
    "\n",
    "First we collect our features and response."
   ]
  },
  {
   "cell_type": "code",
   "execution_count": 12,
   "metadata": {
    "collapsed": true
   },
   "outputs": [],
   "source": [
    "# Create a copy of the dataset and drop the variables which do not serve as predictors\n",
    "X = df.copy()\n",
    "X.drop(['ID','diagnosis','diag_dummy'],axis=1,inplace=True)\n",
    "# Determine the response variable\n",
    "y = df.diag_dummy"
   ]
  },
  {
   "cell_type": "markdown",
   "metadata": {},
   "source": [
    "# K nearest neighbours\n",
    "\n",
    "As a first method we use k nearest neighbours.\n",
    "As the following shows, accuracy beyond 0.9 can be reached depending of the number of nearest neighbours."
   ]
  },
  {
   "cell_type": "code",
   "execution_count": 13,
   "metadata": {
    "collapsed": false
   },
   "outputs": [
    {
     "name": "stdout",
     "output_type": "stream",
     "text": [
      "Neighbours =  2 , Accuracy =  0.968365553603\n",
      "Neighbours =  3 , Accuracy =  0.956063268893\n",
      "Neighbours =  4 , Accuracy =  0.947275922671\n",
      "Neighbours =  5 , Accuracy =  0.947275922671\n",
      "Neighbours =  6 , Accuracy =  0.942003514938\n",
      "Neighbours =  7 , Accuracy =  0.943760984183\n",
      "Neighbours =  8 , Accuracy =  0.93848857645\n",
      "Neighbours =  9 , Accuracy =  0.942003514938\n"
     ]
    }
   ],
   "source": [
    "for nn in range(2,10):\n",
    "    knn = neighbors.KNeighborsClassifier(n_neighbors=nn,weights='uniform')#(n_neighbors=5, weights='uniform')\n",
    "    knn.fit(X, y)\n",
    "    print \"Neighbours = \", nn, ',', \"Accuracy = \", knn.score(X, y)"
   ]
  },
  {
   "cell_type": "markdown",
   "metadata": {},
   "source": [
    "To avoid overfitting, we use five-fold cross validation. The resulting scores for the lowest numbers of neighbours are shown below."
   ]
  },
  {
   "cell_type": "code",
   "execution_count": 14,
   "metadata": {
    "collapsed": false
   },
   "outputs": [
    {
     "data": {
      "text/plain": [
       "[mean: 0.90685, std: 0.02507, params: {'n_neighbors': 2},\n",
       " mean: 0.92267, std: 0.02027, params: {'n_neighbors': 3},\n",
       " mean: 0.91564, std: 0.02249, params: {'n_neighbors': 4},\n",
       " mean: 0.92267, std: 0.02901, params: {'n_neighbors': 5},\n",
       " mean: 0.92619, std: 0.02860, params: {'n_neighbors': 6},\n",
       " mean: 0.92267, std: 0.02381, params: {'n_neighbors': 7},\n",
       " mean: 0.92619, std: 0.03017, params: {'n_neighbors': 8},\n",
       " mean: 0.92619, std: 0.01723, params: {'n_neighbors': 9},\n",
       " mean: 0.92794, std: 0.02104, params: {'n_neighbors': 10},\n",
       " mean: 0.93146, std: 0.01955, params: {'n_neighbors': 11},\n",
       " mean: 0.93146, std: 0.01955, params: {'n_neighbors': 12},\n",
       " mean: 0.92794, std: 0.01700, params: {'n_neighbors': 13},\n",
       " mean: 0.92619, std: 0.01967, params: {'n_neighbors': 14},\n",
       " mean: 0.92794, std: 0.01508, params: {'n_neighbors': 15},\n",
       " mean: 0.92970, std: 0.01755, params: {'n_neighbors': 16},\n",
       " mean: 0.92443, std: 0.01630, params: {'n_neighbors': 17},\n",
       " mean: 0.92619, std: 0.01534, params: {'n_neighbors': 18},\n",
       " mean: 0.92619, std: 0.01811, params: {'n_neighbors': 19},\n",
       " mean: 0.92443, std: 0.01630, params: {'n_neighbors': 20},\n",
       " mean: 0.92619, std: 0.01732, params: {'n_neighbors': 21}]"
      ]
     },
     "execution_count": 14,
     "metadata": {},
     "output_type": "execute_result"
    }
   ],
   "source": [
    "k = range(2, 100)\n",
    "params = {'n_neighbors': k}\n",
    "np.random.seed(1)\n",
    "kf = cross_validation.KFold(len(X), n_folds = 5, shuffle=True)\n",
    "gs = grid_search.GridSearchCV(\n",
    "    estimator=neighbors.KNeighborsClassifier(weights='uniform'),\n",
    "    param_grid=params,\n",
    "    cv=kf,\n",
    ")\n",
    "gs.fit(X, y)\n",
    "gs.grid_scores_[0:20]"
   ]
  },
  {
   "cell_type": "markdown",
   "metadata": {},
   "source": [
    "The plot shows the accuracy reached in dependence of the number of neighbours. The highest accuracy is reached for k=11."
   ]
  },
  {
   "cell_type": "code",
   "execution_count": 15,
   "metadata": {
    "collapsed": false
   },
   "outputs": [
    {
     "data": {
      "text/plain": [
       "(0.90333919156414766, 1)"
      ]
     },
     "execution_count": 15,
     "metadata": {},
     "output_type": "execute_result"
    },
    {
     "data": {
      "image/png": "[encoded data removed]",
      "text/plain": [
       "<matplotlib.figure.Figure at 0x11b431dd0>"
      ]
     },
     "metadata": {},
     "output_type": "display_data"
    }
   ],
   "source": [
    "plt.plot(k, [s[1] for s in  gs.grid_scores_])\n",
    "plt.yscale('log')\n",
    "plt.yticks([0.90,0.92,0.94,0.96,0.98,1.0],['0.90','0.92','0.94','0.96','0.98','1.0'])\n",
    "plt.xlabel('k')\n",
    "plt.ylabel('Accuracy')\n",
    "plt.ylim([0, 1])"
   ]
  },
  {
   "cell_type": "markdown",
   "metadata": {},
   "source": [
    "# Logistic regression"
   ]
  },
  {
   "cell_type": "markdown",
   "metadata": {},
   "source": [
    "Determine the AUC scores for a logistic regression fit on any of the predictors"
   ]
  },
  {
   "cell_type": "code",
   "execution_count": 16,
   "metadata": {
    "collapsed": false
   },
   "outputs": [
    {
     "name": "stdout",
     "output_type": "stream",
     "text": [
      "Sorted AUC scores for all single predictor models\n"
     ]
    },
    {
     "data": {
      "text/plain": [
       "[('compactness_sd_error', 0.49859943977591037),\n",
       " ('concavity_mean', 0.5),\n",
       " ('compactness_worst', 0.5),\n",
       " ('perimeter_worst', 0.5),\n",
       " ('area_worst', 0.5),\n",
       " ('fractal_dimension_wors', 0.5),\n",
       " ('compactness_mean', 0.5),\n",
       " ('smoothness_worst', 0.5),\n",
       " ('symmetry_mean', 0.5),\n",
       " ('area_mean', 0.5),\n",
       " ('concavity_sd_error', 0.5),\n",
       " ('texture_sd_error', 0.5),\n",
       " ('fractal_dimension_sd_error', 0.55851963426880191),\n",
       " ('perimeter_sd_error', 0.570754716981132),\n",
       " ('texture_worst', 0.58873738174515089),\n",
       " ('radius_sd_error', 0.62749722530521646),\n",
       " ('concave_points_mean', 0.67378177686168805),\n",
       " ('perimeter_mean', 0.72840362560118388),\n",
       " ('symmetry_sd_error', 0.74048676074203268),\n",
       " ('area_sd_error', 0.75220654299455625),\n",
       " ('smoothness_mean', 0.75758416574176846),\n",
       " ('fractal_dimension_mean', 0.77925981713440096),\n",
       " ('symmetry_worst', 0.80740975635537238),\n",
       " ('smoothness_sd_error', 0.84035595370223559),\n",
       " ('radius_mean', 0.8572353469689763),\n",
       " ('radius_worst', 0.86055176787696219),\n",
       " ('texture_mean', 0.86526874900903761),\n",
       " ('concavity_worst', 0.88833835420960838),\n",
       " ('concave_points_worst', 0.90248929760583496),\n",
       " ('concave_points_sd_error', 0.90300459806564137)]"
      ]
     },
     "execution_count": 16,
     "metadata": {},
     "output_type": "execute_result"
    }
   ],
   "source": [
    "lr = LogisticRegression()\n",
    "dict = {}\n",
    "for name in X.columns:\n",
    "    Z = df[[name]]\n",
    "\n",
    "    lr.fit(Z, y)\n",
    "\n",
    "    predictions = lr.predict(Z)\n",
    "    probabilities = lr.predict_proba(Z)\n",
    "    dict[name] = roc_auc_score(df[['diag_dummy']], lr.predict(Z))\n",
    "\n",
    "print 'Sorted AUC scores for all single predictor models'\n",
    "sorted(dict.items(), key=operator.itemgetter(1))"
   ]
  },
  {
   "cell_type": "code",
   "execution_count": 17,
   "metadata": {
    "collapsed": false
   },
   "outputs": [
    {
     "name": "stdout",
     "output_type": "stream",
     "text": [
      "0.903004598066\n"
     ]
    },
    {
     "data": {
      "text/html": [
       "<div>\n",
       "<table border=\"1\" class=\"dataframe\">\n",
       "  <thead>\n",
       "    <tr style=\"text-align: right;\">\n",
       "      <th>predicted</th>\n",
       "      <th>0</th>\n",
       "      <th>1</th>\n",
       "    </tr>\n",
       "    <tr>\n",
       "      <th>diag_dummy</th>\n",
       "      <th></th>\n",
       "      <th></th>\n",
       "    </tr>\n",
       "  </thead>\n",
       "  <tbody>\n",
       "    <tr>\n",
       "      <th>0</th>\n",
       "      <td>178</td>\n",
       "      <td>34</td>\n",
       "    </tr>\n",
       "    <tr>\n",
       "      <th>1</th>\n",
       "      <td>12</td>\n",
       "      <td>345</td>\n",
       "    </tr>\n",
       "  </tbody>\n",
       "</table>\n",
       "</div>"
      ],
      "text/plain": [
       "predicted     0    1\n",
       "diag_dummy          \n",
       "0           178   34\n",
       "1            12  345"
      ]
     },
     "execution_count": 17,
     "metadata": {},
     "output_type": "execute_result"
    }
   ],
   "source": [
    "# The best single predictor model \n",
    "Z = df[['concave_points_sd_error']]\n",
    "lr.fit(Z, y)\n",
    "            \n",
    "predictions = lr.predict(Z)            \n",
    "probabilities = lr.predict_proba(Z)\n",
    "print roc_auc_score(df[['diag_dummy']], lr.predict(Z))\n",
    "pd.crosstab(df.diag_dummy, predictions, rownames=['diag_dummy'],colnames=['predicted'])"
   ]
  },
  {
   "cell_type": "markdown",
   "metadata": {},
   "source": [
    "The best single predictor model uses the SD error of concave points and reaches an AUC score above 0.9 and the confusion matrix as given above."
   ]
  },
  {
   "cell_type": "markdown",
   "metadata": {},
   "source": [
    "# Two predictor model"
   ]
  },
  {
   "cell_type": "code",
   "execution_count": 18,
   "metadata": {
    "collapsed": false
   },
   "outputs": [
    {
     "name": "stdout",
     "output_type": "stream",
     "text": [
      "Sorted AUC scores for the ten best two predictor models\n"
     ]
    },
    {
     "data": {
      "text/plain": [
       "[(('concave_points_sd_error', 'concavity_worst'), 0.90300459806564137),\n",
       " (('concave_points_sd_error', 'texture_worst'), 0.90300459806564137),\n",
       " (('concave_points_sd_error', 'perimeter_worst'), 0.90300459806564137),\n",
       " (('concave_points_sd_error', 'perimeter_sd_error'), 0.90300459806564137),\n",
       " (('concave_points_sd_error', 'fractal_dimension_wors'), 0.90300459806564137),\n",
       " (('concave_points_sd_error', 'area_mean'), 0.90300459806564137),\n",
       " (('concave_points_sd_error', 'concave_points_mean'), 0.90300459806564137),\n",
       " (('concave_points_sd_error', 'symmetry_worst'), 0.90300459806564137),\n",
       " (('concave_points_sd_error', 'compactness_mean'), 0.90300459806564137),\n",
       " (('concave_points_sd_error', 'perimeter_mean'), 0.90300459806564137)]"
      ]
     },
     "execution_count": 18,
     "metadata": {},
     "output_type": "execute_result"
    }
   ],
   "source": [
    "lr = LogisticRegression()\n",
    "dict = {}\n",
    "for name in X.columns:\n",
    "    for name1 in X.columns:\n",
    "        if name1 != name:\n",
    "            Z = df[[name]]\n",
    "\n",
    "            lr.fit(Z, y)\n",
    "\n",
    "            predictions = lr.predict(Z)\n",
    "            probabilities = lr.predict_proba(Z)\n",
    "#    print 'Roc-AUC-score:', name, ':', roc_auc_score(df[['diag_dummy']], lr.predict(Z))\n",
    "            dict[(name,name1)] = roc_auc_score(df[['diag_dummy']], lr.predict(Z))\n",
    "        else:\n",
    "            continue\n",
    "print 'Sorted AUC scores for the ten best two predictor models'\n",
    "sorted(dict.items(), key=operator.itemgetter(1))[-10:]"
   ]
  },
  {
   "cell_type": "markdown",
   "metadata": {},
   "source": [
    "There are several two predictor models which reach the same AUC score above 0.9. Adding a second predictor does not lead to a real improvement in comparison to the single predictor model. We take a further look at the one containing \n",
    "the sd error of concave points and the sd error of the perimeter."
   ]
  },
  {
   "cell_type": "code",
   "execution_count": 19,
   "metadata": {
    "collapsed": false
   },
   "outputs": [
    {
     "name": "stdout",
     "output_type": "stream",
     "text": [
      "0.9006461075\n"
     ]
    },
    {
     "data": {
      "text/html": [
       "<div>\n",
       "<table border=\"1\" class=\"dataframe\">\n",
       "  <thead>\n",
       "    <tr style=\"text-align: right;\">\n",
       "      <th>predicted</th>\n",
       "      <th>0</th>\n",
       "      <th>1</th>\n",
       "    </tr>\n",
       "    <tr>\n",
       "      <th>diag_dummy</th>\n",
       "      <th></th>\n",
       "      <th></th>\n",
       "    </tr>\n",
       "  </thead>\n",
       "  <tbody>\n",
       "    <tr>\n",
       "      <th>0</th>\n",
       "      <td>177</td>\n",
       "      <td>35</td>\n",
       "    </tr>\n",
       "    <tr>\n",
       "      <th>1</th>\n",
       "      <td>12</td>\n",
       "      <td>345</td>\n",
       "    </tr>\n",
       "  </tbody>\n",
       "</table>\n",
       "</div>"
      ],
      "text/plain": [
       "predicted     0    1\n",
       "diag_dummy          \n",
       "0           177   35\n",
       "1            12  345"
      ]
     },
     "execution_count": 19,
     "metadata": {},
     "output_type": "execute_result"
    }
   ],
   "source": [
    "names = ['concave_points_sd_error','perimeter_sd_error']\n",
    "Z = df[[names[0],names[1]]]\n",
    "lr.fit(Z, y)\n",
    "            \n",
    "predictions = lr.predict(Z)            \n",
    "probabilities = lr.predict_proba(Z)\n",
    "print roc_auc_score(df[['diag_dummy']], lr.predict(Z))\n",
    "pd.crosstab(df.diag_dummy, predictions, rownames=['diag_dummy'],colnames=['predicted'])"
   ]
  },
  {
   "cell_type": "markdown",
   "metadata": {},
   "source": [
    "The model reaches an AUC score of 0.9 and the confusion matrix as given above.\n",
    "Now we compare the predicted probability for malignity with the true values."
   ]
  },
  {
   "cell_type": "code",
   "execution_count": 20,
   "metadata": {
    "collapsed": false
   },
   "outputs": [],
   "source": [
    "exp0 = np.exp(lr.intercept_[0]+lr.coef_[0,0]*np.array(Z[[names[0]]])+0*lr.coef_[0,1]*np.array(Z[[names[1]]]))\n",
    "exp1 = np.exp(lr.intercept_[0]+0*lr.coef_[0,0]*np.array(Z[[names[0]]])+lr.coef_[0,1]*np.array(Z[[names[1]]]))\n",
    "my_array0 = np.arange(0,300,0.001)\n",
    "my_array1 = np.arange(0,0.2,0.001)\n",
    "exp2 = np.exp(lr.intercept_[0]+1*lr.coef_[0,0]*my_array0+0*lr.coef_[0,1]*my_array0)\n",
    "exp3 = np.exp(lr.intercept_[0]+0*lr.coef_[0,0]*my_array1+1*lr.coef_[0,1]*my_array1)"
   ]
  },
  {
   "cell_type": "code",
   "execution_count": 21,
   "metadata": {
    "collapsed": false
   },
   "outputs": [
    {
     "data": {
      "text/plain": [
       "<matplotlib.legend.Legend at 0x11c0cfb10>"
      ]
     },
     "execution_count": 21,
     "metadata": {},
     "output_type": "execute_result"
    },
    {
     "data": {
      "image/png": "[encoded data removed]",
      "text/plain": [
       "<matplotlib.figure.Figure at 0x11b93a750>"
      ]
     },
     "metadata": {},
     "output_type": "display_data"
    }
   ],
   "source": [
    "plt.scatter(Z[[names[0]]],exp0/(1+exp0),c='r',alpha=0.5)\n",
    "plt.scatter(Z[[names[0]]],y, s=10, c='b', marker=\"o\",alpha=0.5)\n",
    "plt.plot(my_array0,exp2/(1+exp2),c='r',linewidth=2.0)\n",
    "plt.xlabel(names[0])\n",
    "plt.ylabel('Probability')\n",
    "plt.legend(['Logistic regression fit','Predicted probabilities','Class label'],loc='upper right')"
   ]
  },
  {
   "cell_type": "code",
   "execution_count": 22,
   "metadata": {
    "collapsed": false
   },
   "outputs": [
    {
     "data": {
      "text/plain": [
       "<matplotlib.legend.Legend at 0x11cb2bfd0>"
      ]
     },
     "execution_count": 22,
     "metadata": {},
     "output_type": "execute_result"
    },
    {
     "data": {
      "image/png": "[encoded data removed]",
      "text/plain": [
       "<matplotlib.figure.Figure at 0x11b957350>"
      ]
     },
     "metadata": {},
     "output_type": "display_data"
    }
   ],
   "source": [
    "plt.scatter(Z[[names[1]]],exp1/(1+exp1),c='r')\n",
    "plt.scatter(Z[[names[1]]],y, s=10, c='b', marker=\"o\")\n",
    "plt.plot(my_array1,exp3/(1+exp3),c='r')\n",
    "plt.xlabel(names[1])\n",
    "plt.ylabel('Probability')\n",
    "plt.legend(['Logistic regression fit','Predicted probabilities','Class label'],loc='center right')"
   ]
  },
  {
   "cell_type": "markdown",
   "metadata": {},
   "source": [
    "In the plots for both parameters, the blue points indicate malign or benign breast cancer, and in red are the predicted probalities for corresponding parameter values indicating malignity. The corresponding ROC curve is plotted below. A value for the concave points sd error below 100 makes malign cancer very likely, whereas values above 160 indicate benign cells. Inbetween the prediction depends on the threshold value. The perimeter sd value alone instead does not seem to be a very good discriminator."
   ]
  },
  {
   "cell_type": "code",
   "execution_count": 23,
   "metadata": {
    "collapsed": false
   },
   "outputs": [
    {
     "data": {
      "text/plain": [
       "[<matplotlib.lines.Line2D at 0x11cd2ac50>]"
      ]
     },
     "execution_count": 23,
     "metadata": {},
     "output_type": "execute_result"
    },
    {
     "data": {
      "image/png": "[encoded data removed]",
      "text/plain": [
       "<matplotlib.figure.Figure at 0x11b944b90>"
      ]
     },
     "metadata": {},
     "output_type": "display_data"
    }
   ],
   "source": [
    "plt.plot(roc_curve(df[['diag_dummy']], probabilities[:,1])[0],\n",
    "         roc_curve(df[['diag_dummy']], probabilities[:,1])[1])"
   ]
  },
  {
   "cell_type": "markdown",
   "metadata": {},
   "source": [
    "# Logistic regression on all features"
   ]
  },
  {
   "cell_type": "markdown",
   "metadata": {},
   "source": [
    "Performing a logistic regression on all given features, we reach an accuracy above 0.95. The corresponding ROC curve and confusion matrix are given below."
   ]
  },
  {
   "cell_type": "code",
   "execution_count": 24,
   "metadata": {
    "collapsed": false
   },
   "outputs": [
    {
     "name": "stdout",
     "output_type": "stream",
     "text": [
      "0.954376090059\n"
     ]
    },
    {
     "data": {
      "text/plain": [
       "[<matplotlib.lines.Line2D at 0x11d3290d0>]"
      ]
     },
     "execution_count": 24,
     "metadata": {},
     "output_type": "execute_result"
    },
    {
     "data": {
      "image/png": "[encoded data removed]",
      "text/plain": [
       "<matplotlib.figure.Figure at 0x11b961250>"
      ]
     },
     "metadata": {},
     "output_type": "display_data"
    }
   ],
   "source": [
    "lr = LogisticRegression()\n",
    "\n",
    "lr.fit(X, y)\n",
    "\n",
    "predictions = lr.predict(X)\n",
    "probabilities = lr.predict_proba(X)\n",
    "print roc_auc_score(df[['diag_dummy']], lr.predict(X))\n",
    "plt.plot(roc_curve(df[['diag_dummy']], probabilities[:,1])[0],\n",
    "         roc_curve(df[['diag_dummy']], probabilities[:,1])[1])"
   ]
  },
  {
   "cell_type": "code",
   "execution_count": 25,
   "metadata": {
    "collapsed": false
   },
   "outputs": [
    {
     "data": {
      "text/html": [
       "<div>\n",
       "<table border=\"1\" class=\"dataframe\">\n",
       "  <thead>\n",
       "    <tr style=\"text-align: right;\">\n",
       "      <th>predicted</th>\n",
       "      <th>0</th>\n",
       "      <th>1</th>\n",
       "    </tr>\n",
       "    <tr>\n",
       "      <th>diag_dummy</th>\n",
       "      <th></th>\n",
       "      <th></th>\n",
       "    </tr>\n",
       "  </thead>\n",
       "  <tbody>\n",
       "    <tr>\n",
       "      <th>0</th>\n",
       "      <td>198</td>\n",
       "      <td>14</td>\n",
       "    </tr>\n",
       "    <tr>\n",
       "      <th>1</th>\n",
       "      <td>9</td>\n",
       "      <td>348</td>\n",
       "    </tr>\n",
       "  </tbody>\n",
       "</table>\n",
       "</div>"
      ],
      "text/plain": [
       "predicted     0    1\n",
       "diag_dummy          \n",
       "0           198   14\n",
       "1             9  348"
      ]
     },
     "execution_count": 25,
     "metadata": {},
     "output_type": "execute_result"
    }
   ],
   "source": [
    "pd.crosstab(df.diag_dummy, predictions, rownames=['diag_dummy'],colnames=['predicted'])"
   ]
  },
  {
   "cell_type": "markdown",
   "metadata": {},
   "source": [
    "Now we apply five-fold cross validation to reduce overfitting in combination with a grid search on shrinking parameters and varying class weights."
   ]
  },
  {
   "cell_type": "code",
   "execution_count": 26,
   "metadata": {
    "collapsed": false
   },
   "outputs": [
    {
     "name": "stdout",
     "output_type": "stream",
     "text": [
      "LogisticRegression(C=1, class_weight='balanced', dual=False,\n",
      "          fit_intercept=True, intercept_scaling=1, max_iter=100,\n",
      "          multi_class='ovr', n_jobs=1, penalty='l2', random_state=None,\n",
      "          solver='liblinear', tol=0.0001, verbose=0, warm_start=False)\n",
      "0.959608371651\n"
     ]
    },
    {
     "data": {
      "text/plain": [
       "[<matplotlib.lines.Line2D at 0x11d5733d0>]"
      ]
     },
     "execution_count": 26,
     "metadata": {},
     "output_type": "execute_result"
    },
    {
     "data": {
      "image/png": "[encoded data removed]",
      "text/plain": [
       "<matplotlib.figure.Figure at 0x11d34a850>"
      ]
     },
     "metadata": {},
     "output_type": "display_data"
    }
   ],
   "source": [
    "from sklearn import grid_search, cross_validation\n",
    "\n",
    "# Use GridSearch to try different params for LogisticRegression\n",
    "# with cross validation to examine the test set accuracy\n",
    "# and AUC as the performance score\n",
    "gs = grid_search.GridSearchCV(\n",
    "    estimator=LogisticRegression(),\n",
    "    param_grid={'C': [10**-i for i in range(-5, 5)],\n",
    "                'class_weight': [None, 'balanced']},\n",
    "    cv=cross_validation.KFold(n=len(df), n_folds=5),\n",
    "    scoring='roc_auc'\n",
    ")\n",
    "\n",
    "gs.fit(X, y)\n",
    "print gs.best_estimator_\n",
    "\n",
    "predictions_best = gs.best_estimator_.predict(X)\n",
    "probabilities_best = gs.best_estimator_.predict_proba(X)\n",
    "print roc_auc_score(df[['diag_dummy']], predictions_best)\n",
    "plt.plot(roc_curve(df[['diag_dummy']], probabilities_best[:,1])[0],\n",
    "         roc_curve(df[['diag_dummy']], probabilities_best[:,1])[1])"
   ]
  },
  {
   "cell_type": "code",
   "execution_count": 27,
   "metadata": {
    "collapsed": false
   },
   "outputs": [
    {
     "data": {
      "text/html": [
       "<div>\n",
       "<table border=\"1\" class=\"dataframe\">\n",
       "  <thead>\n",
       "    <tr style=\"text-align: right;\">\n",
       "      <th>predicted</th>\n",
       "      <th>0</th>\n",
       "      <th>1</th>\n",
       "    </tr>\n",
       "    <tr>\n",
       "      <th>diag_dummy</th>\n",
       "      <th></th>\n",
       "      <th></th>\n",
       "    </tr>\n",
       "  </thead>\n",
       "  <tbody>\n",
       "    <tr>\n",
       "      <th>0</th>\n",
       "      <td>202</td>\n",
       "      <td>10</td>\n",
       "    </tr>\n",
       "    <tr>\n",
       "      <th>1</th>\n",
       "      <td>12</td>\n",
       "      <td>345</td>\n",
       "    </tr>\n",
       "  </tbody>\n",
       "</table>\n",
       "</div>"
      ],
      "text/plain": [
       "predicted     0    1\n",
       "diag_dummy          \n",
       "0           202   10\n",
       "1            12  345"
      ]
     },
     "execution_count": 27,
     "metadata": {},
     "output_type": "execute_result"
    }
   ],
   "source": [
    "pd.crosstab(df.diag_dummy, predictions_best, rownames=['diag_dummy'],colnames=['predicted'])"
   ]
  },
  {
   "cell_type": "markdown",
   "metadata": {},
   "source": [
    "The cross validation leads to a little improvement of the AUC score to 0.96."
   ]
  },
  {
   "cell_type": "markdown",
   "metadata": {},
   "source": [
    "# Random Forest Classifier"
   ]
  },
  {
   "cell_type": "markdown",
   "metadata": {},
   "source": [
    "To improve on the logistic regression model, we use now a random forest classifier. One of the advantages of this method is that it will allow to easily determine the most important features."
   ]
  },
  {
   "cell_type": "code",
   "execution_count": 28,
   "metadata": {
    "collapsed": true
   },
   "outputs": [],
   "source": [
    "from sklearn.ensemble import RandomForestClassifier\n",
    "from sklearn.cross_validation import cross_val_score"
   ]
  },
  {
   "cell_type": "code",
   "execution_count": 29,
   "metadata": {
    "collapsed": false
   },
   "outputs": [
    {
     "data": {
      "text/plain": [
       "RandomForestClassifier(bootstrap=True, class_weight=None, criterion='gini',\n",
       "            max_depth=None, max_features='auto', max_leaf_nodes=None,\n",
       "            min_samples_leaf=1, min_samples_split=2,\n",
       "            min_weight_fraction_leaf=0.0, n_estimators=30, n_jobs=1,\n",
       "            oob_score=False, random_state=None, verbose=0,\n",
       "            warm_start=False)"
      ]
     },
     "execution_count": 29,
     "metadata": {},
     "output_type": "execute_result"
    }
   ],
   "source": [
    "model = RandomForestClassifier(n_estimators = 30)\n",
    "model.fit(X, y)"
   ]
  },
  {
   "cell_type": "code",
   "execution_count": 30,
   "metadata": {
    "collapsed": false
   },
   "outputs": [
    {
     "data": {
      "text/html": [
       "<div>\n",
       "<table border=\"1\" class=\"dataframe\">\n",
       "  <thead>\n",
       "    <tr style=\"text-align: right;\">\n",
       "      <th></th>\n",
       "      <th>Features</th>\n",
       "      <th>Importance Score</th>\n",
       "    </tr>\n",
       "  </thead>\n",
       "  <tbody>\n",
       "    <tr>\n",
       "      <th>23</th>\n",
       "      <td>concave_points_worst</td>\n",
       "      <td>0.166030</td>\n",
       "    </tr>\n",
       "    <tr>\n",
       "      <th>27</th>\n",
       "      <td>fractal_dimension_mean</td>\n",
       "      <td>0.132421</td>\n",
       "    </tr>\n",
       "    <tr>\n",
       "      <th>22</th>\n",
       "      <td>concave_points_sd_error</td>\n",
       "      <td>0.126067</td>\n",
       "    </tr>\n",
       "    <tr>\n",
       "      <th>20</th>\n",
       "      <td>concavity_worst</td>\n",
       "      <td>0.115915</td>\n",
       "    </tr>\n",
       "    <tr>\n",
       "      <th>7</th>\n",
       "      <td>perimeter_sd_error</td>\n",
       "      <td>0.093545</td>\n",
       "    </tr>\n",
       "    <tr>\n",
       "      <th>6</th>\n",
       "      <td>perimeter_mean</td>\n",
       "      <td>0.059246</td>\n",
       "    </tr>\n",
       "    <tr>\n",
       "      <th>3</th>\n",
       "      <td>texture_mean</td>\n",
       "      <td>0.047213</td>\n",
       "    </tr>\n",
       "    <tr>\n",
       "      <th>2</th>\n",
       "      <td>radius_worst</td>\n",
       "      <td>0.038298</td>\n",
       "    </tr>\n",
       "    <tr>\n",
       "      <th>26</th>\n",
       "      <td>symmetry_worst</td>\n",
       "      <td>0.031584</td>\n",
       "    </tr>\n",
       "    <tr>\n",
       "      <th>0</th>\n",
       "      <td>radius_mean</td>\n",
       "      <td>0.027344</td>\n",
       "    </tr>\n",
       "    <tr>\n",
       "      <th>25</th>\n",
       "      <td>symmetry_sd_error</td>\n",
       "      <td>0.021632</td>\n",
       "    </tr>\n",
       "    <tr>\n",
       "      <th>21</th>\n",
       "      <td>concave_points_mean</td>\n",
       "      <td>0.015041</td>\n",
       "    </tr>\n",
       "    <tr>\n",
       "      <th>1</th>\n",
       "      <td>radius_sd_error</td>\n",
       "      <td>0.014297</td>\n",
       "    </tr>\n",
       "    <tr>\n",
       "      <th>24</th>\n",
       "      <td>symmetry_mean</td>\n",
       "      <td>0.013587</td>\n",
       "    </tr>\n",
       "    <tr>\n",
       "      <th>29</th>\n",
       "      <td>fractal_dimension_wors</td>\n",
       "      <td>0.009386</td>\n",
       "    </tr>\n",
       "    <tr>\n",
       "      <th>19</th>\n",
       "      <td>concavity_sd_error</td>\n",
       "      <td>0.008903</td>\n",
       "    </tr>\n",
       "    <tr>\n",
       "      <th>10</th>\n",
       "      <td>area_sd_error</td>\n",
       "      <td>0.008601</td>\n",
       "    </tr>\n",
       "    <tr>\n",
       "      <th>28</th>\n",
       "      <td>fractal_dimension_sd_error</td>\n",
       "      <td>0.008481</td>\n",
       "    </tr>\n",
       "    <tr>\n",
       "      <th>4</th>\n",
       "      <td>texture_sd_error</td>\n",
       "      <td>0.008003</td>\n",
       "    </tr>\n",
       "    <tr>\n",
       "      <th>13</th>\n",
       "      <td>smoothness_sd_error</td>\n",
       "      <td>0.007365</td>\n",
       "    </tr>\n",
       "    <tr>\n",
       "      <th>15</th>\n",
       "      <td>compactness_mean</td>\n",
       "      <td>0.007341</td>\n",
       "    </tr>\n",
       "    <tr>\n",
       "      <th>5</th>\n",
       "      <td>texture_worst</td>\n",
       "      <td>0.006103</td>\n",
       "    </tr>\n",
       "    <tr>\n",
       "      <th>9</th>\n",
       "      <td>area_mean</td>\n",
       "      <td>0.005263</td>\n",
       "    </tr>\n",
       "    <tr>\n",
       "      <th>16</th>\n",
       "      <td>compactness_sd_error</td>\n",
       "      <td>0.005235</td>\n",
       "    </tr>\n",
       "    <tr>\n",
       "      <th>12</th>\n",
       "      <td>smoothness_mean</td>\n",
       "      <td>0.004899</td>\n",
       "    </tr>\n",
       "    <tr>\n",
       "      <th>8</th>\n",
       "      <td>perimeter_worst</td>\n",
       "      <td>0.004453</td>\n",
       "    </tr>\n",
       "    <tr>\n",
       "      <th>11</th>\n",
       "      <td>area_worst</td>\n",
       "      <td>0.003806</td>\n",
       "    </tr>\n",
       "    <tr>\n",
       "      <th>17</th>\n",
       "      <td>compactness_worst</td>\n",
       "      <td>0.003576</td>\n",
       "    </tr>\n",
       "    <tr>\n",
       "      <th>14</th>\n",
       "      <td>smoothness_worst</td>\n",
       "      <td>0.003192</td>\n",
       "    </tr>\n",
       "    <tr>\n",
       "      <th>18</th>\n",
       "      <td>concavity_mean</td>\n",
       "      <td>0.003172</td>\n",
       "    </tr>\n",
       "  </tbody>\n",
       "</table>\n",
       "</div>"
      ],
      "text/plain": [
       "                      Features  Importance Score\n",
       "23        concave_points_worst          0.166030\n",
       "27      fractal_dimension_mean          0.132421\n",
       "22     concave_points_sd_error          0.126067\n",
       "20             concavity_worst          0.115915\n",
       "7           perimeter_sd_error          0.093545\n",
       "6               perimeter_mean          0.059246\n",
       "3                 texture_mean          0.047213\n",
       "2                 radius_worst          0.038298\n",
       "26              symmetry_worst          0.031584\n",
       "0                  radius_mean          0.027344\n",
       "25           symmetry_sd_error          0.021632\n",
       "21         concave_points_mean          0.015041\n",
       "1              radius_sd_error          0.014297\n",
       "24               symmetry_mean          0.013587\n",
       "29      fractal_dimension_wors          0.009386\n",
       "19          concavity_sd_error          0.008903\n",
       "10               area_sd_error          0.008601\n",
       "28  fractal_dimension_sd_error          0.008481\n",
       "4             texture_sd_error          0.008003\n",
       "13         smoothness_sd_error          0.007365\n",
       "15            compactness_mean          0.007341\n",
       "5                texture_worst          0.006103\n",
       "9                    area_mean          0.005263\n",
       "16        compactness_sd_error          0.005235\n",
       "12             smoothness_mean          0.004899\n",
       "8              perimeter_worst          0.004453\n",
       "11                  area_worst          0.003806\n",
       "17           compactness_worst          0.003576\n",
       "14            smoothness_worst          0.003192\n",
       "18              concavity_mean          0.003172"
      ]
     },
     "execution_count": 30,
     "metadata": {},
     "output_type": "execute_result"
    }
   ],
   "source": [
    "# Extracting importance of features\n",
    "features = X.columns\n",
    "feature_importances = model.feature_importances_\n",
    "\n",
    "features_df = pd.DataFrame({'Features': features, 'Importance Score': feature_importances})\n",
    "features_df.sort_values(by='Importance Score', inplace=True, ascending=False)\n",
    "\n",
    "features_df"
   ]
  },
  {
   "cell_type": "markdown",
   "metadata": {},
   "source": [
    "The above list gives the importance scores for the different features according to the random forest classifier. The parameters of the two parameter logistic regression are among the top three.\n",
    "Now we use five-fold cross validation to determine the accuracy of the model calculating the corresponding AUC scores and averaging over all cross validation sets. We repeat the same procedure for different numbers of trees, increasing the number of trees leads to bias reduction.\n",
    "We limit the maximal depth of the trees and the minimal number of data points in every leaf."
   ]
  },
  {
   "cell_type": "code",
   "execution_count": 31,
   "metadata": {
    "collapsed": false
   },
   "outputs": [
    {
     "name": "stdout",
     "output_type": "stream",
     "text": [
      "Average AUC: 0.988323480937\n",
      "\n",
      "n trees: 1, Average AUC 0.988099618635\n",
      "n trees: 11, Average AUC 0.987861437504\n",
      "n trees: 21, Average AUC 0.988158283515\n",
      "n trees: 31, Average AUC 0.988846629561\n",
      "n trees: 41, Average AUC 0.98918865526\n",
      "n trees: 51, Average AUC 0.986369477084\n",
      "n trees: 61, Average AUC 0.986549165121\n",
      "n trees: 71, Average AUC 0.987853878925\n",
      "n trees: 81, Average AUC 0.988529512815\n",
      "n trees: 91, Average AUC 0.989384834742\n"
     ]
    }
   ],
   "source": [
    "# Now evaluate the random forest model using cross-validation.\n",
    "\n",
    "scores = cross_val_score(model, X, y, scoring='roc_auc', cv=5)\n",
    "print \"Average AUC:\", scores.mean()\n",
    "print\n",
    "\n",
    "for n_trees in range(1, 100, 10):\n",
    "    model = RandomForestClassifier(n_estimators = 20,max_depth=10,min_samples_leaf=5)\n",
    "    scores = cross_val_score(model, X, y, scoring='roc_auc', cv=10)\n",
    "    #print('n trees: {}, CV AUC {}, Average AUC {}'.format(n_trees, scores, scores.mean()))\n",
    "    print('n trees: {}, Average AUC {}'.format(n_trees, scores.mean()))"
   ]
  },
  {
   "cell_type": "code",
   "execution_count": 32,
   "metadata": {
    "collapsed": false
   },
   "outputs": [
    {
     "data": {
      "text/plain": [
       "RandomForestClassifier(bootstrap=True, class_weight=None, criterion='gini',\n",
       "            max_depth=10, max_features='auto', max_leaf_nodes=None,\n",
       "            min_samples_leaf=5, min_samples_split=2,\n",
       "            min_weight_fraction_leaf=0.0, n_estimators=20, n_jobs=1,\n",
       "            oob_score=False, random_state=None, verbose=0,\n",
       "            warm_start=False)"
      ]
     },
     "execution_count": 32,
     "metadata": {},
     "output_type": "execute_result"
    }
   ],
   "source": [
    "model.fit(X,y)"
   ]
  },
  {
   "cell_type": "code",
   "execution_count": 33,
   "metadata": {
    "collapsed": false
   },
   "outputs": [],
   "source": [
    "predictions = model.predict(X)"
   ]
  },
  {
   "cell_type": "code",
   "execution_count": 34,
   "metadata": {
    "collapsed": false
   },
   "outputs": [
    {
     "name": "stdout",
     "output_type": "stream",
     "text": [
      "0.975529834575\n"
     ]
    },
    {
     "data": {
      "text/plain": [
       "[<matplotlib.lines.Line2D at 0x11b402110>]"
      ]
     },
     "execution_count": 34,
     "metadata": {},
     "output_type": "execute_result"
    },
    {
     "data": {
      "image/png": "[encoded data removed]",
      "text/plain": [
       "<matplotlib.figure.Figure at 0x11b94f350>"
      ]
     },
     "metadata": {},
     "output_type": "display_data"
    }
   ],
   "source": [
    "print roc_auc_score(df[['diag_dummy']], predictions)\n",
    "plt.plot(roc_curve(df[['diag_dummy']], probabilities[:,1])[0],\n",
    "         roc_curve(df[['diag_dummy']], probabilities[:,1])[1])"
   ]
  },
  {
   "cell_type": "code",
   "execution_count": 35,
   "metadata": {
    "collapsed": false
   },
   "outputs": [
    {
     "data": {
      "text/html": [
       "<div>\n",
       "<table border=\"1\" class=\"dataframe\">\n",
       "  <thead>\n",
       "    <tr style=\"text-align: right;\">\n",
       "      <th>predicted</th>\n",
       "      <th>0</th>\n",
       "      <th>1</th>\n",
       "    </tr>\n",
       "    <tr>\n",
       "      <th>diag_dummy</th>\n",
       "      <th></th>\n",
       "      <th></th>\n",
       "    </tr>\n",
       "  </thead>\n",
       "  <tbody>\n",
       "    <tr>\n",
       "      <th>0</th>\n",
       "      <td>204</td>\n",
       "      <td>8</td>\n",
       "    </tr>\n",
       "    <tr>\n",
       "      <th>1</th>\n",
       "      <td>4</td>\n",
       "      <td>353</td>\n",
       "    </tr>\n",
       "  </tbody>\n",
       "</table>\n",
       "</div>"
      ],
      "text/plain": [
       "predicted     0    1\n",
       "diag_dummy          \n",
       "0           204    8\n",
       "1             4  353"
      ]
     },
     "execution_count": 35,
     "metadata": {},
     "output_type": "execute_result"
    }
   ],
   "source": [
    "pd.crosstab(df.diag_dummy, predictions, rownames=['diag_dummy'],colnames=['predicted'])"
   ]
  },
  {
   "cell_type": "markdown",
   "metadata": {
    "collapsed": true
   },
   "source": [
    "As we see, with the random forest classifier, we can reach AUC values of 0.99 after cross validation. The method therefore outperforms logistic regression."
   ]
  },
  {
   "cell_type": "markdown",
   "metadata": {},
   "source": [
    "# Explanation\n",
    "\n",
    "Technical:\n",
    "\n",
    "We used k-nearest-neighbours, logistic regression and random forest classifiers to determine the malignity of breast cancer cells. \n",
    "After cross validation, with k-nearest neighbours we reached an accuracy of 93 %, with logistic regression  of 96 % and with random forests even 99 % and hence a very satisfying level of accuracy. K-nearest neighbours does not allow a useful discrimination of the importance of the different features, but the other two methods give similar results on the importance of the different features, the sd error of concave points and the perimeter contributes in both cases importantly to the correct classification, the most important one for logistic regression is the sd error of concave points, whereas for the random forest classifier it is concave points worst. \n",
    "Further analyses could include a thorough best-subset analysis for the logistic regression model and, in the case of random forest, the dependence of the accuracy on the parameters like tree depth, maximal number of features and minimal number of leaf nodes.\n",
    "\n",
    "Non-technical:\n",
    "\n",
    "With a success rate of up to 99%, we can reliably classify the malignity of cancer cells using up to thirty measured variables. Even if we use only one feature, for example the sd error of concave points, we can reach an accuracy of 90%. For that feature, a value below 100 would be a sign of malign cancer."
   ]
  },
  {
   "cell_type": "code",
   "execution_count": null,
   "metadata": {
    "collapsed": true
   },
   "outputs": [],
   "source": []
  }
 ],
 "metadata": {
  "kernelspec": {
   "display_name": "Python 2",
   "language": "python",
   "name": "python2"
  },
  "language_info": {
   "codemirror_mode": {
    "name": "ipython",
    "version": 2
   },
   "file_extension": ".py",
   "mimetype": "text/x-python",
   "name": "python",
   "nbconvert_exporter": "python",
   "pygments_lexer": "ipython2",
   "version": "2.7.10"
  }
 },
 "nbformat": 4,
 "nbformat_minor": 0
}
